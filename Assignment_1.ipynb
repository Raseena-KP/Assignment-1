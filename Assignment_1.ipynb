{
 "cells": [
  {
   "cell_type": "code",
   "execution_count": 2,
   "id": "94594a85",
   "metadata": {},
   "outputs": [],
   "source": [
    "import pandas as pd\n",
    "import numpy as np\n",
    "import matplotlib.pyplot as plt\n",
    "import seaborn as sns"
   ]
  },
  {
   "cell_type": "markdown",
   "id": "071d15bc",
   "metadata": {},
   "source": [
    "# 1. Read the dataset to python environment."
   ]
  },
  {
   "cell_type": "code",
   "execution_count": 3,
   "id": "29061d3a",
   "metadata": {},
   "outputs": [],
   "source": [
    "df=pd.read_excel(\"iris.xls\")"
   ]
  },
  {
   "cell_type": "code",
   "execution_count": 4,
   "id": "521eaa34",
   "metadata": {},
   "outputs": [
    {
     "data": {
      "text/html": [
       "<div>\n",
       "<style scoped>\n",
       "    .dataframe tbody tr th:only-of-type {\n",
       "        vertical-align: middle;\n",
       "    }\n",
       "\n",
       "    .dataframe tbody tr th {\n",
       "        vertical-align: top;\n",
       "    }\n",
       "\n",
       "    .dataframe thead th {\n",
       "        text-align: right;\n",
       "    }\n",
       "</style>\n",
       "<table border=\"1\" class=\"dataframe\">\n",
       "  <thead>\n",
       "    <tr style=\"text-align: right;\">\n",
       "      <th></th>\n",
       "      <th>SL</th>\n",
       "      <th>SW</th>\n",
       "      <th>PL</th>\n",
       "      <th>PW</th>\n",
       "      <th>Classification</th>\n",
       "    </tr>\n",
       "  </thead>\n",
       "  <tbody>\n",
       "    <tr>\n",
       "      <th>0</th>\n",
       "      <td>5.1</td>\n",
       "      <td>3.5</td>\n",
       "      <td>1.4</td>\n",
       "      <td>0.2</td>\n",
       "      <td>Iris-setosa</td>\n",
       "    </tr>\n",
       "    <tr>\n",
       "      <th>1</th>\n",
       "      <td>4.9</td>\n",
       "      <td>3.0</td>\n",
       "      <td>1.4</td>\n",
       "      <td>0.2</td>\n",
       "      <td>Iris-setosa</td>\n",
       "    </tr>\n",
       "    <tr>\n",
       "      <th>2</th>\n",
       "      <td>4.7</td>\n",
       "      <td>3.2</td>\n",
       "      <td>1.3</td>\n",
       "      <td>0.2</td>\n",
       "      <td>Iris-setosa</td>\n",
       "    </tr>\n",
       "    <tr>\n",
       "      <th>3</th>\n",
       "      <td>4.6</td>\n",
       "      <td>3.1</td>\n",
       "      <td>1.5</td>\n",
       "      <td>0.2</td>\n",
       "      <td>Iris-setosa</td>\n",
       "    </tr>\n",
       "    <tr>\n",
       "      <th>4</th>\n",
       "      <td>5.0</td>\n",
       "      <td>3.6</td>\n",
       "      <td>1.4</td>\n",
       "      <td>0.2</td>\n",
       "      <td>Iris-setosa</td>\n",
       "    </tr>\n",
       "  </tbody>\n",
       "</table>\n",
       "</div>"
      ],
      "text/plain": [
       "    SL   SW   PL   PW Classification\n",
       "0  5.1  3.5  1.4  0.2    Iris-setosa\n",
       "1  4.9  3.0  1.4  0.2    Iris-setosa\n",
       "2  4.7  3.2  1.3  0.2    Iris-setosa\n",
       "3  4.6  3.1  1.5  0.2    Iris-setosa\n",
       "4  5.0  3.6  1.4  0.2    Iris-setosa"
      ]
     },
     "execution_count": 4,
     "metadata": {},
     "output_type": "execute_result"
    }
   ],
   "source": [
    "df.head()"
   ]
  },
  {
   "cell_type": "markdown",
   "id": "8a3c19ed",
   "metadata": {},
   "source": [
    "# 2. Display the columns in the dataset."
   ]
  },
  {
   "cell_type": "code",
   "execution_count": 5,
   "id": "90cefb11",
   "metadata": {},
   "outputs": [
    {
     "data": {
      "text/plain": [
       "Index(['SL', 'SW', 'PL', 'PW', 'Classification'], dtype='object')"
      ]
     },
     "execution_count": 5,
     "metadata": {},
     "output_type": "execute_result"
    }
   ],
   "source": [
    "df.columns"
   ]
  },
  {
   "cell_type": "markdown",
   "id": "75a6c1a6",
   "metadata": {},
   "source": [
    "# 3. Calculate the mean of each column of the dataset."
   ]
  },
  {
   "cell_type": "code",
   "execution_count": 6,
   "id": "a310c189",
   "metadata": {},
   "outputs": [
    {
     "name": "stdout",
     "output_type": "stream",
     "text": [
      "Mean of Column SL : 5.843333333333335\n",
      "Mean of Column SW : 3.0540000000000007\n",
      "Mean of Column PL : 3.7586666666666693\n",
      "Mean of Column PW : 1.1986666666666672\n"
     ]
    }
   ],
   "source": [
    "mean_var=[]\n",
    "n=['SL', 'SW', 'PL', 'PW', 'Classification']\n",
    "names=['SL', 'SW', 'PL', 'PW']\n",
    "for i in names:\n",
    "    mean_var=df[i].mean()\n",
    "    print(\"Mean of Column\",i,\":\",mean_var)"
   ]
  },
  {
   "cell_type": "markdown",
   "id": "9035dece",
   "metadata": {},
   "source": [
    "# 4. Check for the null values present in the dataset."
   ]
  },
  {
   "cell_type": "code",
   "execution_count": 7,
   "id": "d04e7c49",
   "metadata": {},
   "outputs": [
    {
     "name": "stdout",
     "output_type": "stream",
     "text": [
      "<class 'pandas.core.frame.DataFrame'>\n",
      "RangeIndex: 150 entries, 0 to 149\n",
      "Data columns (total 5 columns):\n",
      " #   Column          Non-Null Count  Dtype  \n",
      "---  ------          --------------  -----  \n",
      " 0   SL              150 non-null    float64\n",
      " 1   SW              150 non-null    float64\n",
      " 2   PL              150 non-null    float64\n",
      " 3   PW              150 non-null    float64\n",
      " 4   Classification  150 non-null    object \n",
      "dtypes: float64(4), object(1)\n",
      "memory usage: 6.0+ KB\n"
     ]
    }
   ],
   "source": [
    "# Approach 1\n",
    "# check the no of non-null values in each column and compare it with dimension of the dataset\n",
    "df.info()"
   ]
  },
  {
   "cell_type": "code",
   "execution_count": 8,
   "id": "4d609d1d",
   "metadata": {},
   "outputs": [
    {
     "data": {
      "text/plain": [
       "(150, 5)"
      ]
     },
     "execution_count": 8,
     "metadata": {},
     "output_type": "execute_result"
    }
   ],
   "source": [
    "df.shape# compare it with dimension of the sets"
   ]
  },
  {
   "cell_type": "code",
   "execution_count": 9,
   "id": "f720ef7e",
   "metadata": {},
   "outputs": [
    {
     "name": "stdout",
     "output_type": "stream",
     "text": [
      "Null value Count per Column:\n",
      "\n",
      "SL 0\n",
      "SW 0\n",
      "PL 0\n",
      "PW 0\n",
      "Classification 0\n"
     ]
    }
   ],
   "source": [
    "#2nd approach\n",
    "print(\"Null value Count per Column:\\n\")\n",
    "for j in n:\n",
    "    count_var=df[j].isna().sum()\n",
    "    print(j,count_var)"
   ]
  },
  {
   "cell_type": "markdown",
   "id": "ba525951",
   "metadata": {},
   "source": [
    "# 5. Perform meaningful visualizations using the dataset. "
   ]
  },
  {
   "cell_type": "markdown",
   "id": "440d9d24",
   "metadata": {},
   "source": []
  },
  {
   "cell_type": "markdown",
   "id": "49801e67",
   "metadata": {},
   "source": [
    "    # Plot-1"
   ]
  },
  {
   "cell_type": "code",
   "execution_count": 21,
   "id": "99a0ee29",
   "metadata": {},
   "outputs": [
    {
     "data": {
      "image/png": "[encoded data removed]",
      "text/plain": [
       "<Figure size 360x360 with 1 Axes>"
      ]
     },
     "metadata": {
      "needs_background": "light"
     },
     "output_type": "display_data"
    }
   ],
   "source": [
    "%matplotlib inline\n",
    "#Sepal Width vs Classification\n",
    "plt.figure(figsize=(5,5))\n",
    "sw_1=df.loc[df[\"Classification\"]==\"Iris-setosa\",\"SW\"]\n",
    "sw_2=df.loc[df[\"Classification\"]==\"Iris-versicolor\",\"SW\"]\n",
    "sw_3=df.loc[df[\"Classification\"]==\"Iris-virginica\",\"SW\"]\n",
    "plt.boxplot([sw_1,sw_2,sw_3],labels=[\"Iris-setosa\",\"Iris-versicolor\",\"Iris-virginica\"])\n",
    "plt.title(\"Sepal Width vs Classification\",fontsize=20)\n",
    "plt.xlabel(\"Species\",fontsize=13)\n",
    "plt.ylabel(\"Sepal Width\",fontsize=13)\n",
    "plt.tight_layout()"
   ]
  },
  {
   "cell_type": "markdown",
   "id": "4f2e3f40",
   "metadata": {},
   "source": [
    "    # Plot-2"
   ]
  },
  {
   "cell_type": "code",
   "execution_count": 44,
   "id": "990fb9fe",
   "metadata": {},
   "outputs": [
    {
     "name": "stderr",
     "output_type": "stream",
     "text": [
      "C:\\Users\\raseena.ppallintakat\\Anaconda3\\lib\\site-packages\\seaborn\\_decorators.py:36: FutureWarning: Pass the following variable as a keyword arg: x. From version 0.12, the only valid positional argument will be `data`, and passing other arguments without an explicit keyword will result in an error or misinterpretation.\n",
      "  warnings.warn(\n"
     ]
    },
    {
     "data": {
      "image/png": "[encoded data removed]",
      "text/plain": [
       "<Figure size 360x360 with 1 Axes>"
      ]
     },
     "metadata": {
      "needs_background": "light"
     },
     "output_type": "display_data"
    }
   ],
   "source": [
    "df2=df.loc[df[\"Classification\"]==\"Iris-virginica\",:]\n",
    "plt.figure(figsize=(5,5))\n",
    "plt.title(r'\"Iris-virginica\" density on Various Petal Lengths')\n",
    "sns.stripplot(df2[\"PL\"])\n",
    "plt.xlabel(\"Petal Length\")\n",
    "plt.grid()"
   ]
  },
  {
   "cell_type": "markdown",
   "id": "e066708f",
   "metadata": {},
   "source": [
    "     # Plot-3"
   ]
  },
  {
   "cell_type": "code",
   "execution_count": 45,
   "id": "1e196d6c",
   "metadata": {},
   "outputs": [
    {
     "name": "stderr",
     "output_type": "stream",
     "text": [
      "C:\\Users\\raseena.ppallintakat\\Anaconda3\\lib\\site-packages\\seaborn\\_decorators.py:36: FutureWarning: Pass the following variable as a keyword arg: x. From version 0.12, the only valid positional argument will be `data`, and passing other arguments without an explicit keyword will result in an error or misinterpretation.\n",
      "  warnings.warn(\n"
     ]
    },
    {
     "data": {
      "image/png": "[encoded data removed]",
      "text/plain": [
       "<Figure size 432x288 with 1 Axes>"
      ]
     },
     "metadata": {
      "needs_background": "light"
     },
     "output_type": "display_data"
    }
   ],
   "source": [
    "df4=df.loc[df[\"Classification\"]==\"Iris-versicolor\",:]\n",
    "df4=pd.DataFrame(df4,columns=['SL', 'SW', 'PL', 'PW', 'Classification','SL-Class'])\n",
    "limit=df4.index\n",
    "\n",
    "for loop_var in limit:\n",
    "    if df4.loc[loop_var,\"SL\"]<5.0:\n",
    "        df4.loc[loop_var,\"SL-Class\"]=\"4<SL<5\"\n",
    "    elif df4.loc[loop_var,\"SL\"]<6.0:\n",
    "        df4.loc[loop_var,\"SL-Class\"]=\"5<SL<6\"\n",
    "    elif df4.loc[loop_var,\"SL\"]<7.0:\n",
    "        df4.loc[loop_var,\"SL-Class\"]=\"6<SL<7\"\n",
    "    elif df4.loc[loop_var,\"SL\"]<8.0:\n",
    "        df4.loc[loop_var,\"SL-Class\"]=\"7<SL<8\"  \n",
    "\n",
    "sns.countplot(df4[\"SL-Class\"])\n",
    "plt.xlabel(\"Sepal Length in interval\")\n",
    "plt.title('varieties \"Iris-versicolor\" species vs Sepal_length Intervel')\n",
    "plt.tight_layout()"
   ]
  },
  {
   "cell_type": "markdown",
   "id": "a28f7c92",
   "metadata": {},
   "source": [
    "    # Plot-4"
   ]
  },
  {
   "cell_type": "code",
   "execution_count": 47,
   "id": "e2aca40f",
   "metadata": {},
   "outputs": [
    {
     "data": {
      "text/plain": [
       "<matplotlib.legend.Legend at 0x2e9450c7d30>"
      ]
     },
     "execution_count": 47,
     "metadata": {},
     "output_type": "execute_result"
    },
    {
     "data": {
      "image/png": "[encoded data removed]",
      "text/plain": [
       "<Figure size 432x288 with 1 Axes>"
      ]
     },
     "metadata": {
      "needs_background": "light"
     },
     "output_type": "display_data"
    }
   ],
   "source": [
    "plt.scatter(x=df[\"Classification\"],y=df[\"PL\"],color=\"r\")\n",
    "plt.scatter(x=df[\"Classification\"],y=df[\"SL\"],color=\"g\")\n",
    "plt.xlabel(\"Species\")\n",
    "plt.ylabel(\"PL & SL\")\n",
    "plt.title(\"Species vs  PL&SL\")\n",
    "plt.tight_layout()\n",
    "plt.legend([\"PL\",\"SL\"],loc=\"upper left\")"
   ]
  },
  {
   "cell_type": "code",
   "execution_count": null,
   "id": "058a3f67",
   "metadata": {},
   "outputs": [],
   "source": []
  },
  {
   "cell_type": "code",
   "execution_count": null,
   "id": "ece1f529",
   "metadata": {},
   "outputs": [],
   "source": []
  },
  {
   "cell_type": "code",
   "execution_count": null,
   "id": "1ae269bb",
   "metadata": {},
   "outputs": [],
   "source": []
  },
  {
   "cell_type": "code",
   "execution_count": null,
   "id": "54168e66",
   "metadata": {},
   "outputs": [],
   "source": []
  },
  {
   "cell_type": "code",
   "execution_count": null,
   "id": "90dd833a",
   "metadata": {},
   "outputs": [],
   "source": []
  },
  {
   "cell_type": "code",
   "execution_count": null,
   "id": "77f46592",
   "metadata": {},
   "outputs": [],
   "source": []
  },
  {
   "cell_type": "code",
   "execution_count": null,
   "id": "22d038bf",
   "metadata": {},
   "outputs": [],
   "source": []
  },
  {
   "cell_type": "code",
   "execution_count": null,
   "id": "43409d5c",
   "metadata": {},
   "outputs": [],
   "source": []
  },
  {
   "cell_type": "code",
   "execution_count": null,
   "id": "cdbd6c4f",
   "metadata": {},
   "outputs": [],
   "source": []
  },
  {
   "cell_type": "code",
   "execution_count": null,
   "id": "83792113",
   "metadata": {},
   "outputs": [],
   "source": [
    "\n",
    "  "
   ]
  },
  {
   "cell_type": "code",
   "execution_count": null,
   "id": "ea3f811e",
   "metadata": {},
   "outputs": [],
   "source": []
  },
  {
   "cell_type": "code",
   "execution_count": null,
   "id": "829f7c34",
   "metadata": {},
   "outputs": [],
   "source": []
  },
  {
   "cell_type": "code",
   "execution_count": null,
   "id": "660a7f3d",
   "metadata": {},
   "outputs": [],
   "source": []
  }
 ],
 "metadata": {
  "kernelspec": {
   "display_name": "Python 3 (ipykernel)",
   "language": "python",
   "name": "python3"
  },
  "language_info": {
   "codemirror_mode": {
    "name": "ipython",
    "version": 3
   },
   "file_extension": ".py",
   "mimetype": "text/x-python",
   "name": "python",
   "nbconvert_exporter": "python",
   "pygments_lexer": "ipython3",
   "version": "3.9.12"
  }
 },
 "nbformat": 4,
 "nbformat_minor": 5
}
